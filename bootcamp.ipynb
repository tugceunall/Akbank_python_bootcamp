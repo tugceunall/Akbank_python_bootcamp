{
 "cells": [
  {
   "cell_type": "markdown",
   "source": [
    "1. Gerekli kitaplıkları içe aktarmak: İlk olarak, csv ve datetime kitaplıklarını içe aktaracağız. Bu, sipariş bilgilerinin kaydedilmesi ve sipariş zamanının takibi için gereklidir.\n",
    "\n",
    "2. \"Menu.txt\" dosyasını oluşturma: \"Menu.txt\" adında bir dosya oluşturacağız ve kullanıcının pizza ve sos seçeneklerini seçmesine olanak tanıyacak bir menü içeriği yazacağız.\n",
    "\n",
    "3. \"Pizza\" üst sınıfını oluşturma: \"Pizza\" sınıfını oluşturacağız ve bu sınıfın içinde get_description() ve get_cost() adlı iki methodu tanımlayacağız. Bu methodlar, pizzanın açıklamasını ve maliyetini hesaplamak için kullanılacaktır.\n",
    "\n",
    "4. Alt sınıfları oluşturma: Alt sınıflar olarak Klasik, Margherita, Türk Pizzası ve Dominos Pizza vb. pizza türleri oluşturacağız. Her bir pizza türü için bir alt sınıf oluşturacağız ve bu alt sınıfların içinde pizza türüne özgü bir fiyat ve açıklama olacak.\n",
    "\n",
    "5. \"Decorator\" üst sınıfını oluşturma: \"Decorator\" sınıfını oluşturacağız. Bu sınıf, tüm sos sınıflarının süper sınıfı olacak. Decorator sınıfı, pizza sınıfının özelliklerini kullanarak get_description() ve get_cost() yöntemlerini kullanacaktır.\n",
    "\n",
    "6. Sos sınıflarını oluşturma: Zeytin, Mantar, Keçi Peyniri, Et, Soğan ve Mısır'ı belirleyeceğiz ve belirlediğimiz sosların her birini bir sınıf olarak tanımlayacağız. Her bir sosun kendine ait bir fiyatı ve değişken olarak her bir pizzanın açıklaması olması gerekiyor.\n",
    "\n",
    "7. Main fonksiyonunu oluşturma: Bu fonksiyon önce menüyü ekrana yazdıracaktır. Ardından, kullanıcının menüden bir pizza ve sos seçmesine olanak tanıyacak. Seçilen ürünlerin toplam fiyatını hesapladıktan sonra kullanıcıdan isim, TC kimlik numarası, kredi kartı numarası ve kredi kartı şifresi isteyeceğiz.\n",
    "\n",
    "8. Veritabanı oluşturma: \"Orders_Database.csv\" adlı bir dosya oluşturacağız ve içine sipariş bilgilerini kaydedeceğiz. Bu dosya, pizzasını seçen ve kullanıcı adını, kullanıcı kimliğini, kredi kartı bilgilerini, sipariş açıklamasını, sipariş zamanını ve kredi kartı şifresini tutan bir tablo olacak.\n",
    "\n"
   ],
   "metadata": {
    "collapsed": false
   }
  },
  {
   "cell_type": "markdown",
   "source": [
    "Öncelikle, projemizde kullanacağımız csv ve datetime kütüphanelerini import ediyoruz."
   ],
   "metadata": {
    "collapsed": false
   }
  },
  {
   "cell_type": "code",
   "execution_count": 53,
   "outputs": [],
   "source": [
    "import csv\n",
    "import datetime"
   ],
   "metadata": {
    "collapsed": false
   }
  },
  {
   "cell_type": "markdown",
   "source": [
    "Daha sonra, menü seçeneklerimizi içeren bir metin dosyası \"Menu.txt\" dosyasını oluşturuyoruz."
   ],
   "metadata": {
    "collapsed": false
   }
  },
  {
   "cell_type": "code",
   "execution_count": 54,
   "outputs": [],
   "source": [
    "with open('Menu.txt', 'w') as menu_file:\n",
    "    menu_file.write(\n",
    "        \"* Lütfen Bir Pizza Tabanı Seçiniz:\\n1: Klasik\\n2: Margarita\\n3: TürkPizza\\n4: Sade Pizza\\n* ve seçeceğiniz sos:\\n11: Zeytin\\n12: Mantarlar\\n13: Keçi Peyniri\\n14: Et\\n15: Soğan\\n16: Mısır\\n* Teşekkür ederiz!\")"
   ],
   "metadata": {
    "collapsed": false
   }
  },
  {
   "cell_type": "markdown",
   "source": [
    "Daha sonra, Pizza adında bir üst sınıf oluşturuyoruz ve bu sınıfta pizza açıklaması ve fiyatı ile ilgili bilgileri kapsüllüyoruz."
   ],
   "metadata": {
    "collapsed": false
   }
  },
  {
   "cell_type": "code",
   "execution_count": 55,
   "outputs": [],
   "source": [
    "class Pizza:\n",
    "    def __init__(self):\n",
    "        self.description = \"Bilgi yok\"\n",
    "        self.cost = 0\n",
    "\n",
    "    def get_description(self):\n",
    "        return self.description\n",
    "\n",
    "    def get_cost(self):\n",
    "        return self.cost\n"
   ],
   "metadata": {
    "collapsed": false
   }
  },
  {
   "cell_type": "markdown",
   "source": [
    "Ardından, Klasik, Margherita, Türk Pizzası gibi farklı pizza türlerini temsil eden alt sınıfları oluşturuyoruz."
   ],
   "metadata": {
    "collapsed": false
   }
  },
  {
   "cell_type": "code",
   "execution_count": 56,
   "outputs": [],
   "source": [
    "class Klasik(Pizza):\n",
    "    def __init__(self):\n",
    "        super().__init__()\n",
    "        self.description = \"Klasik pizza, peynir ve domates sosuyla hazırlanmıştır.\"\n",
    "        self.cost = 15\n",
    "\n",
    "\n",
    "class Margherita(Pizza):\n",
    "    def __init__(self):\n",
    "        super().__init__()\n",
    "        self.description = \"Margarita pizza, mozarella peyniri ve domates sosuyla hazırlanmıştır.\"\n",
    "        self.cost = 17\n",
    "\n",
    "\n",
    "class TurkPizzası(Pizza):\n",
    "    def __init__(self):\n",
    "        super().__init__()\n",
    "        self.description = \"Türk pizzası, sucuk, sosis, yeşil biber, domates, mantar, zeytin ve kaşar peyniriyle hazırlanmıştır.\"\n",
    "        self.cost = 20\n",
    "\n",
    "\n",
    "class SadePizza(Pizza):\n",
    "    def __init__(self):\n",
    "        super().__init__()\n",
    "        self.description = \"Sade pizza, sadece mozarella peyniri ve domates sosu ile hazırlanmıştır.\"\n",
    "        self.cost = 12\n"
   ],
   "metadata": {
    "collapsed": false
   }
  },
  {
   "cell_type": "markdown",
   "source": [
    "Soslar için ayrı bir sınıf oluşturmamız gerekiyor, çünkü her sosun kendine özgü bir açıklaması ve fiyatı var."
   ],
   "metadata": {
    "collapsed": false
   }
  },
  {
   "cell_type": "code",
   "execution_count": 57,
   "outputs": [],
   "source": [
    "class Sos(Pizza):\n",
    "    def __init__(self):\n",
    "        super().__init__()\n",
    "        self.description = \"Bilgi yok\"\n",
    "        self.cost = 0\n",
    "\n",
    "    def get_description(self):\n",
    "        return self.description\n",
    "\n",
    "    def get_cost(self):\n",
    "        return self.cost\n"
   ],
   "metadata": {
    "collapsed": false
   }
  },
  {
   "cell_type": "markdown",
   "source": [
    "Zeytin, Mantar, Keçi Peyniri, Et, Soğan ve Mısır soslarını temsil eden alt sınıfları tanımlıyoruz."
   ],
   "metadata": {
    "collapsed": false
   }
  },
  {
   "cell_type": "code",
   "execution_count": 58,
   "outputs": [],
   "source": [
    "class Pizza:\n",
    "    def get_description(self):\n",
    "        pass\n",
    "\n",
    "    def get_cost(self):\n",
    "        pass\n",
    "\n",
    "class ClassicPizza(Pizza):\n",
    "    def __init__(self):\n",
    "        self.description = \"Klasik Pizza\"\n",
    "        self.cost = 20.0\n",
    "\n",
    "    def get_description(self):\n",
    "        return self.description\n",
    "\n",
    "    def get_cost(self):\n",
    "        return self.cost\n",
    "\n",
    "class MargheritaPizza(Pizza):\n",
    "    def __init__(self):\n",
    "        self.description = \"Margarita Pizza\"\n",
    "        self.cost = 25.0\n",
    "\n",
    "    def get_description(self):\n",
    "        return self.description\n",
    "\n",
    "    def get_cost(self):\n",
    "        return self.cost\n",
    "\n",
    "class TurkishPizza(Pizza):\n",
    "    def __init__(self):\n",
    "        self.description = \"Türk Pizza\"\n",
    "        self.cost = 30.0\n",
    "\n",
    "    def get_description(self):\n",
    "        return self.description\n",
    "\n",
    "    def get_cost(self):\n",
    "        return self.cost\n",
    "\n",
    "class PlainPizza(Pizza):\n",
    "    def __init__(self):\n",
    "        self.description = \"Sade Pizza\"\n",
    "        self.cost = 15.0\n",
    "\n",
    "    def get_description(self):\n",
    "        return self.description\n",
    "\n",
    "    def get_cost(self):\n",
    "        return self.cost\n",
    "\n",
    "class Sos(Pizza):\n",
    "    def __init__(self, pizza):\n",
    "        self.pizza = pizza\n",
    "\n",
    "\n",
    "class Zeytin(Sos):\n",
    "    def __init__(self, pizza):\n",
    "        Sos.__init__(self, pizza)\n",
    "        self.cost = 2.0\n",
    "        self.description = \"Zeytin\"\n",
    "\n",
    "    def get_description(self):\n",
    "        return self.pizza.get_description() + \", \" + self.description\n",
    "\n",
    "    def get_cost(self):\n",
    "        return self.pizza.get_cost() + self.cost\n",
    "\n",
    "\n",
    "class Mantar(Sos):\n",
    "    def __init__(self, pizza):\n",
    "        Sos.__init__(self, pizza)\n",
    "        self.cost = 3.0\n",
    "        self.description = \"Mantarlar\"\n",
    "\n",
    "    def get_description(self):\n",
    "        return self.pizza.get_description() + \", \" + self.description\n",
    "\n",
    "    def get_cost(self):\n",
    "        return self.pizza.get_cost() + self.cost\n",
    "\n",
    "\n",
    "class KeciPeyniri(Sos):\n",
    "    def __init__(self, pizza):\n",
    "        Sos.__init__(self, pizza)\n",
    "        self.cost = 4.0\n",
    "        self.description = \"Keçi Peyniri\"\n",
    "\n",
    "    def get_description(self):\n",
    "        return self.pizza.get_description() + \", \" + self.description\n",
    "\n",
    "    def get_cost(self):\n",
    "        return self.pizza.get_cost() + self.cost\n",
    "\n",
    "\n",
    "class Et(Sos):\n",
    "    def __init__(self, pizza):\n",
    "        Sos.__init__(self, pizza)\n",
    "        self.cost = 5.0\n",
    "        self.description = \"Et\"\n",
    "\n",
    "    def get_description(self):\n",
    "        return self.pizza.get_description() + \", \" + self.description\n",
    "\n",
    "    def get_cost(self):\n",
    "        return self.pizza.get_cost() + self.cost\n",
    "\n",
    "\n",
    "class Sogan(Sos):\n",
    "    def __init__(self, pizza):\n",
    "        Sos.__init__(self, pizza)\n",
    "        self.cost = 1.5\n",
    "        self.description = \"Soğan\"\n",
    "\n",
    "    def get_description(self):\n",
    "        return self.pizza.get_description() + \", \" + self.description\n",
    "\n",
    "    def get_cost(self):\n",
    "        return self.pizza.get_cost() + self.cost\n",
    "\n",
    "\n",
    "class Misir(Sos):\n",
    "    def __index__(self, pizza):\n",
    "        Sos.__init__(self, pizza)\n",
    "        self.cost = 6\n",
    "        self.description = \"Mısır\"\n",
    "\n",
    "        def get_description(self):\n",
    "            return self.pizza.get_description() + \", \" + self.description\n",
    "\n",
    "        def get_cost(self):\n",
    "\n",
    "            return self.pizza.get_cost() + self.cost"
   ],
   "metadata": {
    "collapsed": false
   }
  },
  {
   "cell_type": "markdown",
   "source": [
    "Şimdi main() fonksiyonu oluşturacağız. Bu fonksiyo menüyü yazdıracak, kullanıcının pizza ve sos seçmesine olanak tanıyacak, seçilen ürünlerin fiyatını hesaplayacak ve kullanıcı bilgilerini isteyecek. Son olarak siparişin veritabanına kaydedilmesi gerekiyor."
   ],
   "metadata": {
    "collapsed": false
   }
  },
  {
   "cell_type": "code",
   "execution_count": 59,
   "outputs": [],
   "source": [
    "class OliveSauce:\n",
    "    pass\n",
    "\n",
    "\n",
    "class MushroomSauce:\n",
    "    pass\n",
    "\n",
    "\n",
    "class MeatSauce:\n",
    "    pass\n",
    "\n",
    "\n",
    "class GoatCheeseSauce:\n",
    "    pass\n",
    "\n",
    "\n",
    "class OnionSauce:\n",
    "    pass\n",
    "\n",
    "\n",
    "class CornSauce:\n",
    "    pass\n",
    "\n",
    "\n",
    "def main():\n",
    "    # Menüyü oku ve yazdır\n",
    "    with open('Menu.txt', 'r') as f:\n",
    "        menu = f.read()\n",
    "    print(menu)\n",
    "\n",
    "    # Kullanıcıdan pizza ve sos seçimlerini al\n",
    "    pizza_choice = input(\"Lütfen bir pizza seçin (1-4): \")\n",
    "    sauce_choice = input(\"Lütfen bir sos seçin (11-16): \")\n",
    "\n",
    "    # Seçimlere göre pizzayı ve sosu oluştur\n",
    "    if pizza_choice == '1':\n",
    "        pizza = ClassicPizza()\n",
    "    elif pizza_choice == '2':\n",
    "        pizza = MargheritaPizza()\n",
    "    elif pizza_choice == '3':\n",
    "        pizza = TurkishPizza()\n",
    "    elif pizza_choice == '4':\n",
    "        pizza = PlainPizza()\n",
    "    else:\n",
    "        print(\"Geçersiz pizza seçimi.\")\n",
    "        return\n",
    "\n",
    "    if sauce_choice == '11':\n",
    "        pizza = OliveSauce(pizza)\n",
    "    elif sauce_choice == '12':\n",
    "        pizza = MushroomSauce(pizza)\n",
    "    elif sauce_choice == '13':\n",
    "        pizza = GoatCheeseSauce(pizza)\n",
    "    elif sauce_choice == '14':\n",
    "        pizza = MeatSauce(pizza)\n",
    "    elif sauce_choice == '15':\n",
    "        pizza = OnionSauce(pizza)\n",
    "    elif sauce_choice == '16':\n",
    "        pizza = CornSauce(pizza)\n",
    "    else:\n",
    "        print(\"Geçersiz sos seçimi.\")\n",
    "        return\n",
    "\n",
    "    # Toplam fiyatı hesapla ve yazdır\n",
    "    total_cost = pizza.get_cost()\n",
    "    print(\"Toplam fiyat: {} TL\".format(total_cost))\n",
    "\n",
    "    # Kullanıcı bilgilerini al\n",
    "    name = input(\"İsim: \")\n",
    "    id_number = input(\"TC Kimlik No: \")\n",
    "    cc_number = input(\"Kredi Kartı Numarası: \")\n",
    "    cc_cvc = input(\"Kredi Kartı Güvenlik Kodu: \")\n",
    "\n",
    "    # Siparişi veritabanına kaydet\n",
    "    with open('Orders_Database.csv', mode='a', newline='') as f:\n",
    "        writer = csv.writer(f)\n",
    "        current_time = datetime.now().strftime(\"%d/%m/%Y %H:%M:%S\")\n",
    "        description = pizza.get_description()\n",
    "        writer.writerow([name, id_number, cc_number, cc_cvc, description, total_cost, current_time])\n",
    "\n",
    "    print(\"Sipariş verildi! Teşekkür ederiz.\")\n"
   ],
   "metadata": {
    "collapsed": false
   }
  },
  {
   "cell_type": "markdown",
   "source": [
    "Bu fonksiyonu çalıştırarak programı kullanabilirsiniz."
   ],
   "metadata": {
    "collapsed": false
   }
  },
  {
   "cell_type": "code",
   "execution_count": 60,
   "outputs": [
    {
     "name": "stdout",
     "output_type": "stream",
     "text": [
      "* Lütfen Bir Pizza Tabanı Seçiniz:\n",
      "1: Klasik\n",
      "2: Margarita\n",
      "3: TürkPizza\n",
      "4: Sade Pizza\n",
      "* ve seçeceğiniz sos:\n",
      "11: Zeytin\n",
      "12: Mantarlar\n",
      "13: Keçi Peyniri\n",
      "14: Et\n",
      "15: Soğan\n",
      "16: Mısır\n",
      "* Teşekkür ederiz!\n",
      "Geçersiz pizza seçimi.\n"
     ]
    }
   ],
   "source": [
    "if __name__ == '__main__':\n",
    "    main()"
   ],
   "metadata": {
    "collapsed": false
   }
  }
 ],
 "metadata": {
  "kernelspec": {
   "display_name": "Python 3",
   "language": "python",
   "name": "python3"
  },
  "language_info": {
   "codemirror_mode": {
    "name": "ipython",
    "version": 2
   },
   "file_extension": ".py",
   "mimetype": "text/x-python",
   "name": "python",
   "nbconvert_exporter": "python",
   "pygments_lexer": "ipython2",
   "version": "2.7.6"
  }
 },
 "nbformat": 4,
 "nbformat_minor": 0
}
